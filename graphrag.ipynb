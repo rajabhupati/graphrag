{
 "cells": [
  {
   "cell_type": "code",
   "execution_count": 1,
   "metadata": {},
   "outputs": [],
   "source": [
    "\n",
    "\n",
    "!pip install --quiet neo4j langchain-community langchain-experimental langchain-openai json-repair llama-index python-dotenv llama-index-graph-stores-neo4j"
   ]
  },
  {
   "cell_type": "code",
   "execution_count": 2,
   "metadata": {},
   "outputs": [
    {
     "name": "stderr",
     "output_type": "stream",
     "text": [
      "/var/folders/yh/7y6kspzd5zj6c33640swh6n40000gp/T/ipykernel_67898/1723572582.py:3: LangChainDeprecationWarning: The class `Neo4jGraph` was deprecated in LangChain 0.3.8 and will be removed in 1.0. An updated version of the class exists in the :class:`~langchain-neo4j package and should be used instead. To use it run `pip install -U :class:`~langchain-neo4j` and import as `from :class:`~langchain_neo4j import Neo4jGraph``.\n",
      "  graph = Neo4jGraph(\n"
     ]
    }
   ],
   "source": [
    "from langchain_community.graphs import Neo4jGraph\n",
    "\n",
    "graph = Neo4jGraph(\n",
    "    url=\"bolt://localhost:7691\",\n",
    "    username=\"neo4j\",\n",
    "    password=\"Sathviganu12$\",\n",
    "    refresh_schema=False\n",
    ")\n",
    "\n",
    "def clean_graph():\n",
    "    query = \"\"\"\n",
    "    MATCH (n)\n",
    "    DETACH DELETE n\n",
    "    \"\"\"\n",
    "    graph.query(query)"
   ]
  },
  {
   "cell_type": "code",
   "execution_count": 3,
   "metadata": {},
   "outputs": [],
   "source": [
    "\n",
    "from langchain_core.documents import Document\n",
    "\n",
    "\n",
    "text = \"\"\"\n",
    "Marie Curie, 7 November 1867 – 4 July 1934, was a Polish and naturalised-French physicist and chemist who conducted pioneering research on radioactivity.\n",
    "She was the first woman to win a Nobel Prize, the first person to win a Nobel Prize twice, and the only person to win a Nobel Prize in two scientific fields.\n",
    "Her husband, Pierre Curie, was a co-winner of her first Nobel Prize, making them the first-ever married couple to win the Nobel Prize and launching the Curie family legacy of five Nobel Prizes.\n",
    "She was, in 1906, the first woman to become a professor at the University of Paris.\n",
    "Also, Robin Williams!\n",
    "\"\"\"\n",
    "documents = [Document(page_content=text)]\n",
    "     "
   ]
  },
  {
   "cell_type": "code",
   "execution_count": 4,
   "metadata": {},
   "outputs": [
    {
     "name": "stderr",
     "output_type": "stream",
     "text": [
      "/opt/anaconda3/envs/graphrag/lib/python3.9/site-packages/langchain_openai/chat_models/base.py:1413: UserWarning: Cannot use method='json_schema' with model gpt-4-0 since it doesn't support OpenAI's Structured Output API. You can see supported models here: https://platform.openai.com/docs/guides/structured-outputs#supported-models. To fix this warning, set `method='function_calling'. Overriding to method='function_calling'.\n",
      "  warnings.warn(\n"
     ]
    },
    {
     "name": "stdout",
     "output_type": "stream",
     "text": [
      "Graph Document 1:\n",
      "nodes=[Node(id='Sarah', type='Person', properties={}), Node(id='Prismaticai', type='Organization', properties={}), Node(id='Westside Valley', type='Location', properties={})] relationships=[Relationship(source=Node(id='Prismaticai', type='Organization', properties={}), target=Node(id='Westside Valley', type='Location', properties={}), type='IN_LOCATION', properties={}), Relationship(source=Node(id='Sarah', type='Person', properties={}), target=Node(id='Prismaticai', type='Organization', properties={}), type='WORKS_AT', properties={})] source=Document(metadata={}, page_content='Sarah is an employee at prismaticAI, a leading technology company based in Westside Valley. She has been working there for the past three years as a software engineer.')\n",
      "\n",
      "Graph Document 2:\n",
      "nodes=[Node(id='Michael', type='Person', properties={}), Node(id='Prismaticai', type='Organization', properties={})] relationships=[Relationship(source=Node(id='Michael', type='Person', properties={}), target=Node(id='Prismaticai', type='Organization', properties={}), type='WORKS_AT', properties={'start_date': '2021-10-01'})] source=Document(metadata={}, page_content='Michael is also an employee at prismaticAI, where he works as a data scientist. He joined the company two years ago after completing his graduate studies.')\n",
      "\n",
      "Graph Document 3:\n",
      "nodes=[Node(id='Prismaticai', type='Organization', properties={}), Node(id='Technology', type='Researchfield', properties={}), Node(id='Software Solutions', type='Researchfield', properties={}), Node(id='Artificial Intelligence', type='Researchfield', properties={})] relationships=[Relationship(source=Node(id='Prismaticai', type='Organization', properties={}), target=Node(id='Technology', type='Researchfield', properties={}), type='FIELD_OF_RESEARCH', properties={}), Relationship(source=Node(id='Prismaticai', type='Organization', properties={}), target=Node(id='Software Solutions', type='Researchfield', properties={}), type='FIELD_OF_RESEARCH', properties={}), Relationship(source=Node(id='Prismaticai', type='Organization', properties={}), target=Node(id='Artificial Intelligence', type='Researchfield', properties={}), type='FIELD_OF_RESEARCH', properties={})] source=Document(metadata={}, page_content='prismaticAI is a well-known technology company that specializes in developing cutting-edge software solutions and artificial intelligence applications. The company has a diverse workforce of talented')\n",
      "\n",
      "Graph Document 4:\n",
      "nodes=[] relationships=[] source=Document(metadata={}, page_content='of talented individuals from various backgrounds.')\n",
      "\n",
      "Graph Document 5:\n",
      "nodes=[Node(id='Sarah', type='Person', properties={}), Node(id='Michael', type='Person', properties={}), Node(id='Prismaticai', type='Organization', properties={})] relationships=[Relationship(source=Node(id='Sarah', type='Person', properties={}), target=Node(id='Prismaticai', type='Organization', properties={}), type='WORKS_AT', properties={}), Relationship(source=Node(id='Michael', type='Person', properties={}), target=Node(id='Prismaticai', type='Organization', properties={}), type='WORKS_AT', properties={})] source=Document(metadata={}, page_content=\"Both Sarah and Michael are highly skilled professionals who contribute significantly to prismaticAI's success. They work closely with their respective teams to develop innovative products and\")\n",
      "\n",
      "Graph Document 6:\n",
      "nodes=[] relationships=[] source=Document(metadata={}, page_content=\"products and services that meet the evolving needs of the company's clients.\")\n",
      "\n",
      "Final Graph Documents:\n",
      "Graph Document 1:\n",
      "nodes=[Node(id='Sarah', type='Person', properties={}), Node(id='Prismaticai', type='Organization', properties={}), Node(id='Westside Valley', type='Location', properties={})] relationships=[Relationship(source=Node(id='Prismaticai', type='Organization', properties={}), target=Node(id='Westside Valley', type='Location', properties={}), type='IN_LOCATION', properties={}), Relationship(source=Node(id='Sarah', type='Person', properties={}), target=Node(id='Prismaticai', type='Organization', properties={}), type='WORKS_AT', properties={})] source=Document(metadata={'id': 'b457d93643d911c68eb65ee6ecb9e0e5'}, page_content='Sarah is an employee at prismaticAI, a leading technology company based in Westside Valley. She has been working there for the past three years as a software engineer.')\n",
      "\n",
      "Graph Document 2:\n",
      "nodes=[Node(id='Michael', type='Person', properties={}), Node(id='Prismaticai', type='Organization', properties={})] relationships=[Relationship(source=Node(id='Michael', type='Person', properties={}), target=Node(id='Prismaticai', type='Organization', properties={}), type='WORKS_AT', properties={'start_date': '2021-10-01'})] source=Document(metadata={'id': '93d68bd3766f932fec17b1c71d0640db'}, page_content='Michael is also an employee at prismaticAI, where he works as a data scientist. He joined the company two years ago after completing his graduate studies.')\n",
      "\n",
      "Graph Document 3:\n",
      "nodes=[Node(id='Prismaticai', type='Organization', properties={}), Node(id='Technology', type='Researchfield', properties={}), Node(id='Software Solutions', type='Researchfield', properties={}), Node(id='Artificial Intelligence', type='Researchfield', properties={})] relationships=[Relationship(source=Node(id='Prismaticai', type='Organization', properties={}), target=Node(id='Technology', type='Researchfield', properties={}), type='FIELD_OF_RESEARCH', properties={}), Relationship(source=Node(id='Prismaticai', type='Organization', properties={}), target=Node(id='Software Solutions', type='Researchfield', properties={}), type='FIELD_OF_RESEARCH', properties={}), Relationship(source=Node(id='Prismaticai', type='Organization', properties={}), target=Node(id='Artificial Intelligence', type='Researchfield', properties={}), type='FIELD_OF_RESEARCH', properties={})] source=Document(metadata={'id': '2082c8aca9d482551445680bf8fa4743'}, page_content='prismaticAI is a well-known technology company that specializes in developing cutting-edge software solutions and artificial intelligence applications. The company has a diverse workforce of talented')\n",
      "\n",
      "Graph Document 4:\n",
      "nodes=[] relationships=[] source=Document(metadata={'id': '821a83ad28dc50bf9f80ccdcb595500c'}, page_content='of talented individuals from various backgrounds.')\n",
      "\n",
      "Graph Document 5:\n",
      "nodes=[Node(id='Sarah', type='Person', properties={}), Node(id='Michael', type='Person', properties={}), Node(id='Prismaticai', type='Organization', properties={})] relationships=[Relationship(source=Node(id='Sarah', type='Person', properties={}), target=Node(id='Prismaticai', type='Organization', properties={}), type='WORKS_AT', properties={}), Relationship(source=Node(id='Michael', type='Person', properties={}), target=Node(id='Prismaticai', type='Organization', properties={}), type='WORKS_AT', properties={})] source=Document(metadata={'id': 'e832d30637e334435722b750692f5b20'}, page_content=\"Both Sarah and Michael are highly skilled professionals who contribute significantly to prismaticAI's success. They work closely with their respective teams to develop innovative products and\")\n",
      "\n",
      "Graph Document 6:\n",
      "nodes=[] relationships=[] source=Document(metadata={'id': '088a1884337d6cd7e136aef2ad976868'}, page_content=\"products and services that meet the evolving needs of the company's clients.\")\n",
      "\n"
     ]
    }
   ],
   "source": [
    "from langchain.text_splitter import RecursiveCharacterTextSplitter\n",
    "from langchain_experimental.graph_transformers.llm import LLMGraphTransformer\n",
    "from langchain.schema import Document\n",
    "from langchain_openai import AzureChatOpenAI\n",
    "from langchain.graphs import Neo4jGraph\n",
    "import getpass\n",
    "import os\n",
    "import nest_asyncio\n",
    "import asyncio\n",
    "\n",
    "# Apply nest_asyncio to allow nested event loops\n",
    "nest_asyncio.apply()\n",
    "\n",
    "# Prompt for Azure OpenAI API key if not set in environment variables\n",
    "if not os.getenv(\"AZURE_OPENAI_API_KEY\"):\n",
    "    os.environ[\"AZURE_OPENAI_API_KEY\"] = getpass.getpass(\"Azure OpenAI API key: \")\n",
    "\n",
    "# Set the Azure OpenAI endpoint if not set in environment variables\n",
    "if not os.getenv(\"AZURE_OPENAI_ENDPOINT\"):\n",
    "    os.environ[\"AZURE_OPENAI_ENDPOINT\"] = input(\"Azure OpenAI Endpoint: \")\n",
    "\n",
    "# Initialize Azure OpenAI LLM\n",
    "llm = AzureChatOpenAI(api_key=os.environ[\"AZURE_OPENAI_API_KEY\"], model=\"gpt-4-0\", temperature=0, api_version=\"2025-01-01-preview\")\n",
    "\n",
    "# Example text data\n",
    "text = \"\"\"Sarah is an employee at prismaticAI, a leading technology company based in Westside Valley. She has been working there for the past three years as a software engineer.\n",
    "Michael is also an employee at prismaticAI, where he works as a data scientist. He joined the company two years ago after completing his graduate studies.\n",
    "prismaticAI is a well-known technology company that specializes in developing cutting-edge software solutions and artificial intelligence applications. The company has a diverse workforce of talented individuals from various backgrounds.\n",
    "Both Sarah and Michael are highly skilled professionals who contribute significantly to prismaticAI's success. They work closely with their respective teams to develop innovative products and services that meet the evolving needs of the company's clients.\"\"\"\n",
    "\n",
    "# Split text into chunks\n",
    "text_splitter = RecursiveCharacterTextSplitter(chunk_size=200, chunk_overlap=20)\n",
    "texts = text_splitter.split_text(text)\n",
    "\n",
    "# Convert text chunks to Document objects\n",
    "documents = [Document(page_content=text) for text in texts]\n",
    "\n",
    "# Initialize the transformer\n",
    "allowed_nodes = [\"Person\", \"Organization\", \"Location\", \"Award\", \"ResearchField\"]\n",
    "allowed_relationships = [\n",
    "    (\"Person\", \"SPOUSE\", \"Person\"),\n",
    "    (\"Person\", \"AWARD\", \"Award\"),\n",
    "    (\"Person\", \"WORKS_AT\", \"Organization\"),\n",
    "    (\"Organization\", \"IN_LOCATION\", \"Location\"),\n",
    "    (\"Person\", \"FIELD_OF_RESEARCH\", \"ResearchField\")\n",
    "]\n",
    "node_properties=[\"birth_date\", \"death_date\"]\n",
    "relationship_properties=[\"start_date\"]\n",
    "\n",
    "rels_defined = LLMGraphTransformer(llm=llm, allowed_nodes=allowed_nodes, allowed_relationships=allowed_relationships, node_properties=node_properties, relationship_properties=relationship_properties, strict_mode=False)\n",
    "\n",
    "# Initialize the Neo4j graph\n",
    "graph = Neo4jGraph(\n",
    "    url=\"bolt://localhost:7691\",\n",
    "    username=\"neo4j\",\n",
    "    password=\"Sathviganu12$\",\n",
    "    refresh_schema=False\n",
    ")\n",
    "\n",
    "# Define an asynchronous function to run the conversion and add to Neo4j\n",
    "async def main():\n",
    "    data = await rels_defined.aconvert_to_graph_documents(documents)\n",
    "    \n",
    "    # Print the graph documents\n",
    "    for i, doc in enumerate(data):\n",
    "        print(f\"Graph Document {i+1}:\\n{doc}\\n\")\n",
    "    \n",
    "    # Add the graph documents to the Neo4j graph\n",
    "    graph.add_graph_documents(data)\n",
    "\n",
    "    # Return the graph documents\n",
    "    return data\n",
    "\n",
    "\n",
    "# Run the asynchronous function\n",
    "graph_documents = await main()\n",
    "\n",
    "print(\"Final Graph Documents:\")\n",
    "for i, doc in enumerate(graph_documents):\n",
    "    print(f\"Graph Document {i+1}:\\n{doc}\\n\")\n",
    "\n"
   ]
  },
  {
   "cell_type": "code",
   "execution_count": 5,
   "metadata": {},
   "outputs": [
    {
     "name": "stdout",
     "output_type": "stream",
     "text": [
      "Requirement already satisfied: py2neo in /opt/anaconda3/envs/graphrag/lib/python3.9/site-packages (2021.2.4)\n",
      "Requirement already satisfied: certifi in /opt/anaconda3/envs/graphrag/lib/python3.9/site-packages (from py2neo) (2025.1.31)\n",
      "Requirement already satisfied: interchange~=2021.0.4 in /opt/anaconda3/envs/graphrag/lib/python3.9/site-packages (from py2neo) (2021.0.4)\n",
      "Requirement already satisfied: monotonic in /opt/anaconda3/envs/graphrag/lib/python3.9/site-packages (from py2neo) (1.6)\n",
      "Requirement already satisfied: packaging in /opt/anaconda3/envs/graphrag/lib/python3.9/site-packages (from py2neo) (24.2)\n",
      "Requirement already satisfied: pansi>=2020.7.3 in /opt/anaconda3/envs/graphrag/lib/python3.9/site-packages (from py2neo) (2024.11.0)\n",
      "Requirement already satisfied: pygments>=2.0.0 in /opt/anaconda3/envs/graphrag/lib/python3.9/site-packages (from py2neo) (2.19.1)\n",
      "Requirement already satisfied: six>=1.15.0 in /opt/anaconda3/envs/graphrag/lib/python3.9/site-packages (from py2neo) (1.17.0)\n",
      "Requirement already satisfied: urllib3 in /opt/anaconda3/envs/graphrag/lib/python3.9/site-packages (from py2neo) (2.3.0)\n",
      "Requirement already satisfied: pytz in /opt/anaconda3/envs/graphrag/lib/python3.9/site-packages (from interchange~=2021.0.4->py2neo) (2025.1)\n",
      "Requirement already satisfied: pillow in /opt/anaconda3/envs/graphrag/lib/python3.9/site-packages (from pansi>=2020.7.3->py2neo) (11.1.0)\n"
     ]
    }
   ],
   "source": [
    "!pip install py2neo"
   ]
  },
  {
   "cell_type": "code",
   "execution_count": 6,
   "metadata": {},
   "outputs": [
    {
     "name": "stdout",
     "output_type": "stream",
     "text": [
      "[GraphDocument(nodes=[Node(id='Sarah', type='Person', properties={}), Node(id='Prismaticai', type='Organization', properties={}), Node(id='Westside Valley', type='Location', properties={})], relationships=[Relationship(source=Node(id='Prismaticai', type='Organization', properties={}), target=Node(id='Westside Valley', type='Location', properties={}), type='IN_LOCATION', properties={}), Relationship(source=Node(id='Sarah', type='Person', properties={}), target=Node(id='Prismaticai', type='Organization', properties={}), type='WORKS_AT', properties={})], source=Document(metadata={'id': 'b457d93643d911c68eb65ee6ecb9e0e5'}, page_content='Sarah is an employee at prismaticAI, a leading technology company based in Westside Valley. She has been working there for the past three years as a software engineer.')), GraphDocument(nodes=[Node(id='Michael', type='Person', properties={}), Node(id='Prismaticai', type='Organization', properties={})], relationships=[Relationship(source=Node(id='Michael', type='Person', properties={}), target=Node(id='Prismaticai', type='Organization', properties={}), type='WORKS_AT', properties={'start_date': '2021-10-01'})], source=Document(metadata={'id': '93d68bd3766f932fec17b1c71d0640db'}, page_content='Michael is also an employee at prismaticAI, where he works as a data scientist. He joined the company two years ago after completing his graduate studies.')), GraphDocument(nodes=[Node(id='Prismaticai', type='Organization', properties={}), Node(id='Technology', type='Researchfield', properties={}), Node(id='Software Solutions', type='Researchfield', properties={}), Node(id='Artificial Intelligence', type='Researchfield', properties={})], relationships=[Relationship(source=Node(id='Prismaticai', type='Organization', properties={}), target=Node(id='Technology', type='Researchfield', properties={}), type='FIELD_OF_RESEARCH', properties={}), Relationship(source=Node(id='Prismaticai', type='Organization', properties={}), target=Node(id='Software Solutions', type='Researchfield', properties={}), type='FIELD_OF_RESEARCH', properties={}), Relationship(source=Node(id='Prismaticai', type='Organization', properties={}), target=Node(id='Artificial Intelligence', type='Researchfield', properties={}), type='FIELD_OF_RESEARCH', properties={})], source=Document(metadata={'id': '2082c8aca9d482551445680bf8fa4743'}, page_content='prismaticAI is a well-known technology company that specializes in developing cutting-edge software solutions and artificial intelligence applications. The company has a diverse workforce of talented')), GraphDocument(nodes=[], relationships=[], source=Document(metadata={'id': '821a83ad28dc50bf9f80ccdcb595500c'}, page_content='of talented individuals from various backgrounds.')), GraphDocument(nodes=[Node(id='Sarah', type='Person', properties={}), Node(id='Michael', type='Person', properties={}), Node(id='Prismaticai', type='Organization', properties={})], relationships=[Relationship(source=Node(id='Sarah', type='Person', properties={}), target=Node(id='Prismaticai', type='Organization', properties={}), type='WORKS_AT', properties={}), Relationship(source=Node(id='Michael', type='Person', properties={}), target=Node(id='Prismaticai', type='Organization', properties={}), type='WORKS_AT', properties={})], source=Document(metadata={'id': 'e832d30637e334435722b750692f5b20'}, page_content=\"Both Sarah and Michael are highly skilled professionals who contribute significantly to prismaticAI's success. They work closely with their respective teams to develop innovative products and\")), GraphDocument(nodes=[], relationships=[], source=Document(metadata={'id': '088a1884337d6cd7e136aef2ad976868'}, page_content=\"products and services that meet the evolving needs of the company's clients.\"))]\n"
     ]
    }
   ],
   "source": [
    "print(graph_documents)"
   ]
  },
  {
   "cell_type": "code",
   "execution_count": 7,
   "metadata": {},
   "outputs": [],
   "source": [
    "from py2neo import Graph, Node, Relationship\n",
    "\n",
    "# Connect to Neo4j\n",
    "py2neo_graph = Graph(\n",
    "    \"bolt://localhost:7691\",\n",
    "    auth=(\"neo4j\", \"Sathviganu12$\")\n",
    ")\n",
    "\n",
    "# Assuming 'graph_documents' is a list of GraphDocument objects\n",
    "for graph_doc in graph_documents:\n",
    "    # Create nodes\n",
    "    for node_data in graph_doc.nodes:\n",
    "        node = Node(node_data.type, id=node_data.id, **node_data.properties)\n",
    "        py2neo_graph.merge(node, node_data.type, \"id\")\n",
    "    \n",
    "    # Create relationships\n",
    "    for rel_data in graph_doc.relationships:\n",
    "        source_node = py2neo_graph.nodes.match(rel_data.source.type, id=rel_data.source.id).first()\n",
    "        target_node = py2neo_graph.nodes.match(rel_data.target.type, id=rel_data.target.id).first()\n",
    "        if source_node and target_node:\n",
    "            relationship = Relationship(source_node, rel_data.type, target_node, **rel_data.properties)\n",
    "            py2neo_graph.merge(relationship)"
   ]
  },
  {
   "cell_type": "code",
   "execution_count": 8,
   "metadata": {},
   "outputs": [],
   "source": [
    "from llama_index.core import KnowledgeGraphIndex, SimpleDirectoryReader\n",
    "from llama_index.core import StorageContext\n",
    "from llama_index.graph_stores.neo4j import Neo4jGraphStore"
   ]
  },
  {
   "cell_type": "code",
   "execution_count": 9,
   "metadata": {},
   "outputs": [
    {
     "ename": "ImportError",
     "evalue": "cannot import name 'Neo4jGraphStore' from 'llama_index.graph_stores' (unknown location)",
     "output_type": "error",
     "traceback": [
      "\u001b[0;31m---------------------------------------------------------------------------\u001b[0m",
      "\u001b[0;31mImportError\u001b[0m                               Traceback (most recent call last)",
      "Cell \u001b[0;32mIn[9], line 2\u001b[0m\n\u001b[1;32m      1\u001b[0m \u001b[38;5;28;01mfrom\u001b[39;00m\u001b[38;5;250m \u001b[39m\u001b[38;5;21;01mllama_index\u001b[39;00m\u001b[38;5;21;01m.\u001b[39;00m\u001b[38;5;21;01mcore\u001b[39;00m\u001b[38;5;250m \u001b[39m\u001b[38;5;28;01mimport\u001b[39;00m StorageContext, KnowledgeGraphIndex\n\u001b[0;32m----> 2\u001b[0m \u001b[38;5;28;01mfrom\u001b[39;00m\u001b[38;5;250m \u001b[39m\u001b[38;5;21;01mllama_index\u001b[39;00m\u001b[38;5;21;01m.\u001b[39;00m\u001b[38;5;21;01mgraph_stores\u001b[39;00m\u001b[38;5;250m \u001b[39m\u001b[38;5;28;01mimport\u001b[39;00m Neo4jGraphStore\n\u001b[1;32m      3\u001b[0m \u001b[38;5;28;01mfrom\u001b[39;00m\u001b[38;5;250m \u001b[39m\u001b[38;5;21;01mllama_index\u001b[39;00m\u001b[38;5;21;01m.\u001b[39;00m\u001b[38;5;21;01mschema\u001b[39;00m\u001b[38;5;250m \u001b[39m\u001b[38;5;28;01mimport\u001b[39;00m Document\n\u001b[1;32m      5\u001b[0m \u001b[38;5;66;03m# Add get_doc_id method to Document class if it does not exist\u001b[39;00m\n",
      "\u001b[0;31mImportError\u001b[0m: cannot import name 'Neo4jGraphStore' from 'llama_index.graph_stores' (unknown location)"
     ]
    }
   ],
   "source": [
    "from llama_index.core import StorageContext, KnowledgeGraphIndex\n",
    "from llama_index.graph_stores import Neo4jGraphStore\n",
    "from llama_index.schema import Document\n",
    "\n",
    "# Add get_doc_id method to Document class if it does not exist\n",
    "def get_doc_id(self):\n",
    "    return self.metadata.get('id', None) or getattr(self, 'id_', None)\n",
    "\n",
    "Document.get_doc_id = get_doc_id\n",
    "\n",
    "# Add hash method to Document class if it does not exist\n",
    "def hash(self):\n",
    "    return hash(self.page_content)\n",
    "\n",
    "Document.hash = hash\n",
    "\n",
    "# Initialize the Neo4jGraphStore\n",
    "graph_store = Neo4jGraphStore(\n",
    "    username=\"neo4j\",\n",
    "    password=\"Sathviganu12$\",\n",
    "    url=\"bolt://localhost:7691\",\n",
    "    database=\"neo4j\"\n",
    ")\n",
    "\n",
    "# Initialize the StorageContext\n",
    "storage_context = StorageContext.from_defaults(graph_store=graph_store)\n",
    "\n",
    "# NOTE: can take a while!\n",
    "index = KnowledgeGraphIndex.from_documents(\n",
    "    documents,\n",
    "    storage_context=storage_context,\n",
    "    max_triplets_per_chunk=2,\n",
    ")\n",
    "\n",
    "# Function to initialize the query engine\n",
    "def initialize_query_engine(storage_context, llm):\n",
    "    # Initialize the KnowledgeGraphRAGRetriever with the Azure OpenAI LLM\n",
    "    graph_rag_retriever = KnowledgeGraphRAGRetriever(storage_context=storage_context, llm=llm, verbose=True)\n",
    "\n",
    "    # Initialize the RetrieverQueryEngine with the Azure OpenAI LLM\n",
    "    query_engine = RetrieverQueryEngine.from_args(retriever=graph_rag_retriever, llm=llm)\n",
    "\n",
    "    return query_engine\n",
    "\n",
    "# Example usage\n",
    "azure_openai_api_key = os.getenv(\"AZURE_OPENAI_API_KEY\")\n",
    "azure_openai_endpoint = os.getenv(\"AZURE_OPENAI_ENDPOINT\")\n",
    "\n",
    "# Initialize Azure OpenAI LLM\n",
    "llm = AzureChatOpenAI(api_key=azure_openai_api_key, model=\"gpt-4-0\", temperature=0, api_version=\"2025-01-01-preview\", endpoint=azure_openai_endpoint)\n",
    "\n",
    "query_engine = initialize_query_engine(storage_context, llm)\n",
    "\n",
    "# Example query\n",
    "query = \"Tell me about Sarah and Michael's work at prismaticAI.\"\n",
    "response = query_engine.query(query)\n",
    "print(response)"
   ]
  },
  {
   "cell_type": "code",
   "execution_count": null,
   "metadata": {},
   "outputs": [],
   "source": []
  },
  {
   "cell_type": "code",
   "execution_count": null,
   "metadata": {},
   "outputs": [],
   "source": []
  }
 ],
 "metadata": {
  "kernelspec": {
   "display_name": "graphrag",
   "language": "python",
   "name": "python3"
  },
  "language_info": {
   "codemirror_mode": {
    "name": "ipython",
    "version": 3
   },
   "file_extension": ".py",
   "mimetype": "text/x-python",
   "name": "python",
   "nbconvert_exporter": "python",
   "pygments_lexer": "ipython3",
   "version": "3.9.21"
  }
 },
 "nbformat": 4,
 "nbformat_minor": 2
}
